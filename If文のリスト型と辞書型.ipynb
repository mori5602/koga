{
 "cells": [
  {
   "cell_type": "markdown",
   "metadata": {},
   "source": [
    "3-2 繰り返し"
   ]
  },
  {
   "cell_type": "code",
   "execution_count": 4,
   "metadata": {},
   "outputs": [
    {
     "name": "stdout",
     "output_type": "stream",
     "text": [
      "0\n",
      "1\n",
      "2\n"
     ]
    }
   ],
   "source": [
    "for count in range (3):\n",
    "    print(count)"
   ]
  },
  {
   "cell_type": "code",
   "execution_count": 6,
   "metadata": {},
   "outputs": [
    {
     "name": "stdout",
     "output_type": "stream",
     "text": [
      "n\n",
      "i\n",
      "n\n",
      "j\n",
      "a\n"
     ]
    }
   ],
   "source": [
    "    word = 'ninja'\n",
    "    for chara in word:\n",
    "        print(chara)"
   ]
  },
  {
   "cell_type": "markdown",
   "metadata": {},
   "source": [
    "forを使ったリスト型の繰り返し"
   ]
  },
  {
   "cell_type": "code",
   "execution_count": 7,
   "metadata": {},
   "outputs": [
    {
     "name": "stdout",
     "output_type": "stream",
     "text": [
      "now playing...DEATH METAL\n",
      "now playing...ROCK\n",
      "now playing...ANIME\n",
      "now playing...POP\n"
     ]
    }
   ],
   "source": [
    "    music_list = ['DEATH METAL','ROCK','ANIME','POP']\n",
    "    for music in music_list:\n",
    "        print('now playing...'+ music)"
   ]
  },
  {
   "cell_type": "markdown",
   "metadata": {},
   "source": [
    "forを使った辞書型の繰り返し"
   ]
  },
  {
   "cell_type": "code",
   "execution_count": 10,
   "metadata": {},
   "outputs": [
    {
     "ename": "SyntaxError",
     "evalue": "invalid syntax (<ipython-input-10-8287c2bf84a9>, line 1)",
     "output_type": "error",
     "traceback": [
      "\u001b[0;36m  File \u001b[0;32m\"<ipython-input-10-8287c2bf84a9>\"\u001b[0;36m, line \u001b[0;32m1\u001b[0m\n\u001b[0;31m    menu = {'ラーメン':500'チャーハン':430'餃子':210}\u001b[0m\n\u001b[0m                            ^\u001b[0m\n\u001b[0;31mSyntaxError\u001b[0m\u001b[0;31m:\u001b[0m invalid syntax\n"
     ]
    }
   ],
   "source": [
    "    menu = {'ラーメン':500'チャーハン':430'餃子':210}\n",
    "    for order in menu:\n",
    "        print(order)\n",
    "        print(menu[order] * 1.08)"
   ]
  },
  {
   "cell_type": "code",
   "execution_count": null,
   "metadata": {
    "collapsed": true
   },
   "outputs": [],
   "source": []
  }
 ],
 "metadata": {
  "kernelspec": {
   "display_name": "Python 3",
   "language": "python",
   "name": "python3"
  },
  "language_info": {
   "codemirror_mode": {
    "name": "ipython",
    "version": 3
   },
   "file_extension": ".py",
   "mimetype": "text/x-python",
   "name": "python",
   "nbconvert_exporter": "python",
   "pygments_lexer": "ipython3",
   "version": "3.6.1"
  }
 },
 "nbformat": 4,
 "nbformat_minor": 2
}
